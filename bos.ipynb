{
 "cells": [
  {
   "cell_type": "code",
   "execution_count": 76,
   "metadata": {},
   "outputs": [],
   "source": [
    "import pandas as pd\n",
    "from sklearn.linear_model import LinearRegression\n",
    "import numpy as np"
   ]
  },
  {
   "cell_type": "code",
   "execution_count": 77,
   "metadata": {},
   "outputs": [],
   "source": [
    "houses = pd.read_csv('files/HousingData.csv')\n",
    "houses.dropna(inplace=True)\n",
    "houses.drop_duplicates(inplace=True)\n",
    "corr_matrix = houses.corr()\n",
    "#c = houses['Avg. Area House Age'].corr(houses['Price'])\n",
    "#print(c)\n"
   ]
  },
  {
   "cell_type": "code",
   "execution_count": 78,
   "metadata": {},
   "outputs": [
    {
     "data": {
      "text/plain": [
       "Index(['CRIM', 'ZN', 'INDUS', 'CHAS', 'NOX', 'RM', 'AGE', 'DIS', 'RAD', 'TAX',\n",
       "       'PTRATIO', 'B', 'LSTAT', 'MEDV'],\n",
       "      dtype='object')"
      ]
     },
     "execution_count": 78,
     "metadata": {},
     "output_type": "execute_result"
    }
   ],
   "source": [
    "houses.columns"
   ]
  },
  {
   "cell_type": "code",
   "execution_count": 79,
   "metadata": {},
   "outputs": [
    {
     "name": "stdout",
     "output_type": "stream",
     "text": [
      "highest correlarion \n",
      "LSTAT\n",
      "end\n"
     ]
    }
   ],
   "source": [
    "df = houses\n",
    "target_corr = corr_matrix['MEDV']\n",
    "highest_correlation_feature = target_corr.drop('MEDV').abs().idxmax()\n",
    "print(\"highest correlarion \")\n",
    "print(highest_correlation_feature)\n",
    "print(\"end\")"
   ]
  },
  {
   "cell_type": "code",
   "execution_count": 80,
   "metadata": {},
   "outputs": [],
   "source": [
    "houses.dropna(inplace=True)\n",
    "houses.drop_duplicates(inplace=True)"
   ]
  },
  {
   "cell_type": "code",
   "execution_count": 81,
   "metadata": {},
   "outputs": [],
   "source": [
    "houses = houses[['CRIM', 'ZN', 'INDUS', 'CHAS', 'NOX', 'RM', 'AGE', 'DIS', 'RAD', 'TAX',\n",
    "       'PTRATIO', 'B', 'LSTAT','MEDV']]\n",
    "'''df = houses[['CRIM', 'ZN', 'INDUS', 'CHAS', 'NOX', 'RM', 'AGE', 'DIS', 'RAD', 'TAX',\n",
    "       'PTRATIO', 'B', 'LSTAT']]\n",
    "from sklearn.preprocessing import StandardScaler\n",
    "scaler = StandardScaler()\n",
    "standardized_data = scaler.fit_transform(df)\n",
    "standardized_df = pd.DataFrame(standardized_data,columns=df.columns)\n",
    "houses[['CRIM', 'ZN', 'INDUS', 'CHAS', 'NOX', 'RM', 'AGE', 'DIS', 'RAD', 'TAX',\n",
    "       'PTRATIO', 'B', 'LSTAT']] = standardized_df[['CRIM', 'ZN', 'INDUS', 'CHAS', 'NOX', 'RM', 'AGE', 'DIS', 'RAD', 'TAX',\n",
    "       'PTRATIO', 'B', 'LSTAT']]\n",
    "s = StandardScaler()\n",
    "houses['MEDV']=s.fit_transform(np.array(houses['MEDV']).reshape(-1,1))'''"
   ]
  },
  {
   "cell_type": "code",
   "execution_count": 82,
   "metadata": {},
   "outputs": [
    {
     "data": {
      "text/html": [
       "<div>\n",
       "<style scoped>\n",
       "    .dataframe tbody tr th:only-of-type {\n",
       "        vertical-align: middle;\n",
       "    }\n",
       "\n",
       "    .dataframe tbody tr th {\n",
       "        vertical-align: top;\n",
       "    }\n",
       "\n",
       "    .dataframe thead th {\n",
       "        text-align: right;\n",
       "    }\n",
       "</style>\n",
       "<table border=\"1\" class=\"dataframe\">\n",
       "  <thead>\n",
       "    <tr style=\"text-align: right;\">\n",
       "      <th></th>\n",
       "      <th>CRIM</th>\n",
       "      <th>ZN</th>\n",
       "      <th>INDUS</th>\n",
       "      <th>CHAS</th>\n",
       "      <th>NOX</th>\n",
       "      <th>RM</th>\n",
       "      <th>AGE</th>\n",
       "      <th>DIS</th>\n",
       "      <th>RAD</th>\n",
       "      <th>TAX</th>\n",
       "      <th>PTRATIO</th>\n",
       "      <th>B</th>\n",
       "      <th>LSTAT</th>\n",
       "      <th>MEDV</th>\n",
       "    </tr>\n",
       "  </thead>\n",
       "  <tbody>\n",
       "    <tr>\n",
       "      <th>0</th>\n",
       "      <td>-0.400818</td>\n",
       "      <td>0.273342</td>\n",
       "      <td>-1.259620</td>\n",
       "      <td>-0.271237</td>\n",
       "      <td>-0.134687</td>\n",
       "      <td>0.423161</td>\n",
       "      <td>-0.134014</td>\n",
       "      <td>0.135851</td>\n",
       "      <td>-0.974609</td>\n",
       "      <td>-0.656944</td>\n",
       "      <td>-1.496303</td>\n",
       "      <td>0.430740</td>\n",
       "      <td>-1.067126</td>\n",
       "      <td>24.0</td>\n",
       "    </tr>\n",
       "    <tr>\n",
       "      <th>1</th>\n",
       "      <td>-0.398535</td>\n",
       "      <td>-0.479051</td>\n",
       "      <td>-0.569724</td>\n",
       "      <td>-0.271237</td>\n",
       "      <td>-0.745475</td>\n",
       "      <td>0.202245</td>\n",
       "      <td>0.357849</td>\n",
       "      <td>0.554334</td>\n",
       "      <td>-0.858633</td>\n",
       "      <td>-0.978184</td>\n",
       "      <td>-0.340879</td>\n",
       "      <td>0.430740</td>\n",
       "      <td>-0.497196</td>\n",
       "      <td>21.6</td>\n",
       "    </tr>\n",
       "    <tr>\n",
       "      <th>2</th>\n",
       "      <td>-0.398537</td>\n",
       "      <td>-0.479051</td>\n",
       "      <td>-0.569724</td>\n",
       "      <td>-0.271237</td>\n",
       "      <td>-0.745475</td>\n",
       "      <td>1.298216</td>\n",
       "      <td>-0.281214</td>\n",
       "      <td>0.554334</td>\n",
       "      <td>-0.858633</td>\n",
       "      <td>-0.978184</td>\n",
       "      <td>-0.340879</td>\n",
       "      <td>0.385097</td>\n",
       "      <td>-1.197278</td>\n",
       "      <td>34.7</td>\n",
       "    </tr>\n",
       "    <tr>\n",
       "      <th>3</th>\n",
       "      <td>-0.397984</td>\n",
       "      <td>-0.479051</td>\n",
       "      <td>-1.278462</td>\n",
       "      <td>-0.271237</td>\n",
       "      <td>-0.842847</td>\n",
       "      <td>1.029962</td>\n",
       "      <td>-0.830521</td>\n",
       "      <td>1.076829</td>\n",
       "      <td>-0.742657</td>\n",
       "      <td>-1.097162</td>\n",
       "      <td>0.075073</td>\n",
       "      <td>0.405283</td>\n",
       "      <td>-1.346610</td>\n",
       "      <td>33.4</td>\n",
       "    </tr>\n",
       "    <tr>\n",
       "      <th>5</th>\n",
       "      <td>-0.385778</td>\n",
       "      <td>0.043444</td>\n",
       "      <td>-0.453775</td>\n",
       "      <td>-0.271237</td>\n",
       "      <td>-0.258615</td>\n",
       "      <td>-0.154950</td>\n",
       "      <td>0.975370</td>\n",
       "      <td>1.023534</td>\n",
       "      <td>-0.510706</td>\n",
       "      <td>-0.567711</td>\n",
       "      <td>-1.542520</td>\n",
       "      <td>0.430740</td>\n",
       "      <td>0.874196</td>\n",
       "      <td>28.7</td>\n",
       "    </tr>\n",
       "  </tbody>\n",
       "</table>\n",
       "</div>"
      ],
      "text/plain": [
       "       CRIM        ZN     INDUS      CHAS       NOX        RM       AGE  \\\n",
       "0 -0.400818  0.273342 -1.259620 -0.271237 -0.134687  0.423161 -0.134014   \n",
       "1 -0.398535 -0.479051 -0.569724 -0.271237 -0.745475  0.202245  0.357849   \n",
       "2 -0.398537 -0.479051 -0.569724 -0.271237 -0.745475  1.298216 -0.281214   \n",
       "3 -0.397984 -0.479051 -1.278462 -0.271237 -0.842847  1.029962 -0.830521   \n",
       "5 -0.385778  0.043444 -0.453775 -0.271237 -0.258615 -0.154950  0.975370   \n",
       "\n",
       "        DIS       RAD       TAX   PTRATIO         B     LSTAT  MEDV  \n",
       "0  0.135851 -0.974609 -0.656944 -1.496303  0.430740 -1.067126  24.0  \n",
       "1  0.554334 -0.858633 -0.978184 -0.340879  0.430740 -0.497196  21.6  \n",
       "2  0.554334 -0.858633 -0.978184 -0.340879  0.385097 -1.197278  34.7  \n",
       "3  1.076829 -0.742657 -1.097162  0.075073  0.405283 -1.346610  33.4  \n",
       "5  1.023534 -0.510706 -0.567711 -1.542520  0.430740  0.874196  28.7  "
      ]
     },
     "execution_count": 82,
     "metadata": {},
     "output_type": "execute_result"
    }
   ],
   "source": [
    "houses.head()"
   ]
  },
  {
   "cell_type": "code",
   "execution_count": 83,
   "metadata": {},
   "outputs": [],
   "source": [
    "houses.dropna(inplace=True)"
   ]
  },
  {
   "cell_type": "code",
   "execution_count": 84,
   "metadata": {},
   "outputs": [],
   "source": [
    "x= houses[[ 'ZN', 'INDUS', 'CHAS', 'RM', 'AGE', 'DIS', 'RAD', 'TAX',\n",
    "       'PTRATIO', 'B', 'LSTAT']]\n",
    "y=houses['MEDV']"
   ]
  },
  {
   "cell_type": "code",
   "execution_count": 85,
   "metadata": {},
   "outputs": [
    {
     "data": {
      "text/html": [
       "<style>#sk-container-id-7 {color: black;}#sk-container-id-7 pre{padding: 0;}#sk-container-id-7 div.sk-toggleable {background-color: white;}#sk-container-id-7 label.sk-toggleable__label {cursor: pointer;display: block;width: 100%;margin-bottom: 0;padding: 0.3em;box-sizing: border-box;text-align: center;}#sk-container-id-7 label.sk-toggleable__label-arrow:before {content: \"▸\";float: left;margin-right: 0.25em;color: #696969;}#sk-container-id-7 label.sk-toggleable__label-arrow:hover:before {color: black;}#sk-container-id-7 div.sk-estimator:hover label.sk-toggleable__label-arrow:before {color: black;}#sk-container-id-7 div.sk-toggleable__content {max-height: 0;max-width: 0;overflow: hidden;text-align: left;background-color: #f0f8ff;}#sk-container-id-7 div.sk-toggleable__content pre {margin: 0.2em;color: black;border-radius: 0.25em;background-color: #f0f8ff;}#sk-container-id-7 input.sk-toggleable__control:checked~div.sk-toggleable__content {max-height: 200px;max-width: 100%;overflow: auto;}#sk-container-id-7 input.sk-toggleable__control:checked~label.sk-toggleable__label-arrow:before {content: \"▾\";}#sk-container-id-7 div.sk-estimator input.sk-toggleable__control:checked~label.sk-toggleable__label {background-color: #d4ebff;}#sk-container-id-7 div.sk-label input.sk-toggleable__control:checked~label.sk-toggleable__label {background-color: #d4ebff;}#sk-container-id-7 input.sk-hidden--visually {border: 0;clip: rect(1px 1px 1px 1px);clip: rect(1px, 1px, 1px, 1px);height: 1px;margin: -1px;overflow: hidden;padding: 0;position: absolute;width: 1px;}#sk-container-id-7 div.sk-estimator {font-family: monospace;background-color: #f0f8ff;border: 1px dotted black;border-radius: 0.25em;box-sizing: border-box;margin-bottom: 0.5em;}#sk-container-id-7 div.sk-estimator:hover {background-color: #d4ebff;}#sk-container-id-7 div.sk-parallel-item::after {content: \"\";width: 100%;border-bottom: 1px solid gray;flex-grow: 1;}#sk-container-id-7 div.sk-label:hover label.sk-toggleable__label {background-color: #d4ebff;}#sk-container-id-7 div.sk-serial::before {content: \"\";position: absolute;border-left: 1px solid gray;box-sizing: border-box;top: 0;bottom: 0;left: 50%;z-index: 0;}#sk-container-id-7 div.sk-serial {display: flex;flex-direction: column;align-items: center;background-color: white;padding-right: 0.2em;padding-left: 0.2em;position: relative;}#sk-container-id-7 div.sk-item {position: relative;z-index: 1;}#sk-container-id-7 div.sk-parallel {display: flex;align-items: stretch;justify-content: center;background-color: white;position: relative;}#sk-container-id-7 div.sk-item::before, #sk-container-id-7 div.sk-parallel-item::before {content: \"\";position: absolute;border-left: 1px solid gray;box-sizing: border-box;top: 0;bottom: 0;left: 50%;z-index: -1;}#sk-container-id-7 div.sk-parallel-item {display: flex;flex-direction: column;z-index: 1;position: relative;background-color: white;}#sk-container-id-7 div.sk-parallel-item:first-child::after {align-self: flex-end;width: 50%;}#sk-container-id-7 div.sk-parallel-item:last-child::after {align-self: flex-start;width: 50%;}#sk-container-id-7 div.sk-parallel-item:only-child::after {width: 0;}#sk-container-id-7 div.sk-dashed-wrapped {border: 1px dashed gray;margin: 0 0.4em 0.5em 0.4em;box-sizing: border-box;padding-bottom: 0.4em;background-color: white;}#sk-container-id-7 div.sk-label label {font-family: monospace;font-weight: bold;display: inline-block;line-height: 1.2em;}#sk-container-id-7 div.sk-label-container {text-align: center;}#sk-container-id-7 div.sk-container {/* jupyter's `normalize.less` sets `[hidden] { display: none; }` but bootstrap.min.css set `[hidden] { display: none !important; }` so we also need the `!important` here to be able to override the default hidden behavior on the sphinx rendered scikit-learn.org. See: https://github.com/scikit-learn/scikit-learn/issues/21755 */display: inline-block !important;position: relative;}#sk-container-id-7 div.sk-text-repr-fallback {display: none;}</style><div id=\"sk-container-id-7\" class=\"sk-top-container\"><div class=\"sk-text-repr-fallback\"><pre>LinearRegression()</pre><b>In a Jupyter environment, please rerun this cell to show the HTML representation or trust the notebook. <br />On GitHub, the HTML representation is unable to render, please try loading this page with nbviewer.org.</b></div><div class=\"sk-container\" hidden><div class=\"sk-item\"><div class=\"sk-estimator sk-toggleable\"><input class=\"sk-toggleable__control sk-hidden--visually\" id=\"sk-estimator-id-7\" type=\"checkbox\" checked><label for=\"sk-estimator-id-7\" class=\"sk-toggleable__label sk-toggleable__label-arrow\">LinearRegression</label><div class=\"sk-toggleable__content\"><pre>LinearRegression()</pre></div></div></div></div></div>"
      ],
      "text/plain": [
       "LinearRegression()"
      ]
     },
     "execution_count": 85,
     "metadata": {},
     "output_type": "execute_result"
    }
   ],
   "source": [
    "from sklearn.model_selection import train_test_split\n",
    "x_train,x_test,y_train,y_test = train_test_split(x,y,test_size=0.20,random_state=42)\n",
    "lr = LinearRegression()\n",
    "lr.fit(x_train,y_train)"
   ]
  },
  {
   "cell_type": "code",
   "execution_count": 86,
   "metadata": {},
   "outputs": [
    {
     "data": {
      "image/png": "[encoded data removed]",
      "text/plain": [
       "<Figure size 432x288 with 1 Axes>"
      ]
     },
     "metadata": {
      "needs_background": "light"
     },
     "output_type": "display_data"
    },
    {
     "name": "stdout",
     "output_type": "stream",
     "text": [
      "72.36264350605654\n",
      "R-squared: 0.16773451269889506\n"
     ]
    }
   ],
   "source": [
    "import matplotlib.pyplot as plt\n",
    "predict = lr.predict(x_test)\n",
    "plt.scatter(predict,y_test)\n",
    "plt.plot([min(predict),max(predict)],[min(y_test),max(y_test)],color='red')\n",
    "plt.show()\n",
    "from sklearn.metrics import mean_squared_error,r2_score,accuracy_score\n",
    "print(mean_squared_error(y_test,predict))\n",
    "r2 = r2_score(y_test,predict)\n",
    "print(\"R-squared:\", r2)"
   ]
  },
  {
   "cell_type": "code",
   "execution_count": 87,
   "metadata": {},
   "outputs": [
    {
     "data": {
      "text/plain": [
       "\"new_data = pd.DataFrame({\\n    'Avg. Area Income': [79545.46],\\n    'Avg. Area House Age': [5.682861],\\n    'Avg. Area Number of Rooms': [7.009188],\\n    'Avg. Area Number of Bedrooms': [4.09],\\n    'Area Population': [23089.8],\\n})\\n\\nfeatures = new_data\\n\\nscaled_features = scaler.transform(features)\\nprint(type(scaled_features))\\nprediction = lr.predict(scaled_features)\\n\\nprint(prediction)\\ny_pred_original = s.inverse_transform(prediction.reshape(-1, 1))\\nprint(y_pred_original)\""
      ]
     },
     "execution_count": 87,
     "metadata": {},
     "output_type": "execute_result"
    }
   ],
   "source": [
    "'''new_data = pd.DataFrame({\n",
    "    'Avg. Area Income': [79545.46],\n",
    "    'Avg. Area House Age': [5.682861],\n",
    "    'Avg. Area Number of Rooms': [7.009188],\n",
    "    'Avg. Area Number of Bedrooms': [4.09],\n",
    "    'Area Population': [23089.8],\n",
    "})\n",
    "\n",
    "features = new_data\n",
    "\n",
    "scaled_features = scaler.transform(features)\n",
    "print(type(scaled_features))\n",
    "prediction = lr.predict(scaled_features)\n",
    "\n",
    "print(prediction)\n",
    "y_pred_original = s.inverse_transform(prediction.reshape(-1, 1))\n",
    "print(y_pred_original)'''"
   ]
  }
 ],
 "metadata": {
  "kernelspec": {
   "display_name": "Python 3",
   "language": "python",
   "name": "python3"
  },
  "language_info": {
   "codemirror_mode": {
    "name": "ipython",
    "version": 3
   },
   "file_extension": ".py",
   "mimetype": "text/x-python",
   "name": "python",
   "nbconvert_exporter": "python",
   "pygments_lexer": "ipython3",
   "version": "3.10.5"
  },
  "orig_nbformat": 4
 },
 "nbformat": 4,
 "nbformat_minor": 2
}
